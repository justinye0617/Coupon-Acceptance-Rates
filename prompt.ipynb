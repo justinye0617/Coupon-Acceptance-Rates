{
  "cells": [
    {
      "cell_type": "markdown",
      "metadata": {
        "id": "view-in-github",
        "colab_type": "text"
      },
      "source": [
        "<a href=\"https://colab.research.google.com/github/justinye0617/Coupon-Acceptance-Rates/blob/main/prompt.ipynb\" target=\"_parent\"><img src=\"https://colab.research.google.com/assets/colab-badge.svg\" alt=\"Open In Colab\"/></a>"
      ]
    },
    {
      "cell_type": "markdown",
      "metadata": {
        "id": "CcUT6Fon_qRE"
      },
      "source": [
        "### Required Assignment 5.1: Will the Customer Accept the Coupon?\n",
        "\n",
        "**Context**\n",
        "\n",
        "Imagine driving through town and a coupon is delivered to your cell phone for a restaurant near where you are driving. Would you accept that coupon and take a short detour to the restaurant? Would you accept the coupon but use it on a subsequent trip? Would you ignore the coupon entirely? What if the coupon was for a bar instead of a restaurant? What about a coffee house? Would you accept a bar coupon with a minor passenger in the car? What about if it was just you and your partner in the car? Would weather impact the rate of acceptance? What about the time of day?\n",
        "\n",
        "Obviously, proximity to the business is a factor on whether the coupon is delivered to the driver or not, but what are the factors that determine whether a driver accepts the coupon once it is delivered to them? How would you determine whether a driver is likely to accept a coupon?\n",
        "\n",
        "**Overview**\n",
        "\n",
        "The goal of this project is to use what you know about visualizations and probability distributions to distinguish between customers who accepted a driving coupon versus those that did not.\n",
        "\n",
        "**Data**\n",
        "\n",
        "This data comes to us from the UCI Machine Learning repository and was collected via a survey on Amazon Mechanical Turk. The survey describes different driving scenarios including the destination, current time, weather, passenger, etc., and then ask the person whether he will accept the coupon if he is the driver. Answers that the user will drive there ‘right away’ or ‘later before the coupon expires’ are labeled as ‘Y = 1’ and answers ‘no, I do not want the coupon’ are labeled as ‘Y = 0’.  There are five different types of coupons -- less expensive restaurants (under \\$20), coffee houses, carry out & take away, bar, and more expensive restaurants (\\$20 - $50)."
      ]
    },
    {
      "cell_type": "markdown",
      "metadata": {
        "id": "1wORvMBJ_qRF"
      },
      "source": [
        "**Deliverables**\n",
        "\n",
        "Your final product should be a brief report that highlights the differences between customers who did and did not accept the coupons.  To explore the data you will utilize your knowledge of plotting, statistical summaries, and visualization using Python. You will publish your findings in a public facing github repository as your first portfolio piece.\n",
        "\n",
        "\n",
        "\n"
      ]
    },
    {
      "cell_type": "markdown",
      "metadata": {
        "id": "pG6_Ym6q_qRG"
      },
      "source": [
        "### Data Description\n",
        "Keep in mind that these values mentioned below are average values.\n",
        "\n",
        "The attributes of this data set include:\n",
        "1. User attributes\n",
        "    -  Gender: male, female\n",
        "    -  Age: below 21, 21 to 25, 26 to 30, etc.\n",
        "    -  Marital Status: single, married partner, unmarried partner, or widowed\n",
        "    -  Number of children: 0, 1, or more than 1\n",
        "    -  Education: high school, bachelors degree, associates degree, or graduate degree\n",
        "    -  Occupation: architecture & engineering, business & financial, etc.\n",
        "    -  Annual income: less than \\\\$12500, \\\\$12500 - \\\\$24999, \\\\$25000 - \\\\$37499, etc.\n",
        "    -  Number of times that he/she goes to a bar: 0, less than 1, 1 to 3, 4 to 8 or greater than 8\n",
        "    -  Number of times that he/she buys takeaway food: 0, less than 1, 1 to 3, 4 to 8 or greater\n",
        "    than 8\n",
        "    -  Number of times that he/she goes to a coffee house: 0, less than 1, 1 to 3, 4 to 8 or\n",
        "    greater than 8\n",
        "    -  Number of times that he/she eats at a restaurant with average expense less than \\\\$20 per\n",
        "    person: 0, less than 1, 1 to 3, 4 to 8 or greater than 8\n",
        "    -  Number of times that he/she goes to a bar: 0, less than 1, 1 to 3, 4 to 8 or greater than 8\n",
        "    \n",
        "\n",
        "2. Contextual attributes\n",
        "    - Driving destination: home, work, or no urgent destination\n",
        "    - Location of user, coupon and destination: we provide a map to show the geographical\n",
        "    location of the user, destination, and the venue, and we mark the distance between each\n",
        "    two places with time of driving. The user can see whether the venue is in the same\n",
        "    direction as the destination.\n",
        "    - Weather: sunny, rainy, or snowy\n",
        "    - Temperature: 30F, 55F, or 80F\n",
        "    - Time: 10AM, 2PM, or 6PM\n",
        "    - Passenger: alone, partner, kid(s), or friend(s)\n",
        "\n",
        "\n",
        "3. Coupon attributes\n",
        "    - time before it expires: 2 hours or one day"
      ]
    },
    {
      "cell_type": "code",
      "execution_count": 2,
      "metadata": {
        "id": "dzNoP3o__qRG"
      },
      "outputs": [],
      "source": [
        "import matplotlib.pyplot as plt\n",
        "import seaborn as sns\n",
        "import pandas as pd\n",
        "import numpy as np"
      ]
    },
    {
      "cell_type": "markdown",
      "metadata": {
        "id": "Ct8pI1uE_qRG"
      },
      "source": [
        "### Problems\n",
        "\n",
        "Use the prompts below to get started with your data analysis.  \n",
        "\n",
        "1. Read in the `coupons.csv` file.\n",
        "\n",
        "\n"
      ]
    },
    {
      "cell_type": "code",
      "execution_count": 3,
      "metadata": {
        "id": "X0vbffYg_qRH"
      },
      "outputs": [],
      "source": [
        "data = pd.read_csv('data/coupons.csv')"
      ]
    },
    {
      "cell_type": "code",
      "execution_count": 4,
      "metadata": {
        "id": "TXofQ_DF_qRH",
        "outputId": "25ba540b-e18b-462b-b488-fefa7c8be4cb",
        "colab": {
          "base_uri": "https://localhost:8080/",
          "height": 342
        }
      },
      "outputs": [
        {
          "output_type": "execute_result",
          "data": {
            "text/plain": [
              "       destination  passanger weather  temperature  time  \\\n",
              "0  No Urgent Place      Alone   Sunny           55   2PM   \n",
              "1  No Urgent Place  Friend(s)   Sunny           80  10AM   \n",
              "2  No Urgent Place  Friend(s)   Sunny           80  10AM   \n",
              "3  No Urgent Place  Friend(s)   Sunny           80   2PM   \n",
              "4  No Urgent Place  Friend(s)   Sunny           80   2PM   \n",
              "\n",
              "                  coupon expiration  gender age      maritalStatus  ...  \\\n",
              "0        Restaurant(<20)         1d  Female  21  Unmarried partner  ...   \n",
              "1           Coffee House         2h  Female  21  Unmarried partner  ...   \n",
              "2  Carry out & Take away         2h  Female  21  Unmarried partner  ...   \n",
              "3           Coffee House         2h  Female  21  Unmarried partner  ...   \n",
              "4           Coffee House         1d  Female  21  Unmarried partner  ...   \n",
              "\n",
              "   CoffeeHouse CarryAway RestaurantLessThan20 Restaurant20To50  \\\n",
              "0        never       NaN                  4~8              1~3   \n",
              "1        never       NaN                  4~8              1~3   \n",
              "2        never       NaN                  4~8              1~3   \n",
              "3        never       NaN                  4~8              1~3   \n",
              "4        never       NaN                  4~8              1~3   \n",
              "\n",
              "  toCoupon_GEQ5min toCoupon_GEQ15min toCoupon_GEQ25min direction_same  \\\n",
              "0                1                 0                 0              0   \n",
              "1                1                 0                 0              0   \n",
              "2                1                 1                 0              0   \n",
              "3                1                 1                 0              0   \n",
              "4                1                 1                 0              0   \n",
              "\n",
              "  direction_opp  Y  \n",
              "0             1  1  \n",
              "1             1  0  \n",
              "2             1  1  \n",
              "3             1  0  \n",
              "4             1  0  \n",
              "\n",
              "[5 rows x 26 columns]"
            ],
            "text/html": [
              "\n",
              "  <div id=\"df-62eadf00-f4e0-46e1-ba99-7ff37a8da8fd\" class=\"colab-df-container\">\n",
              "    <div>\n",
              "<style scoped>\n",
              "    .dataframe tbody tr th:only-of-type {\n",
              "        vertical-align: middle;\n",
              "    }\n",
              "\n",
              "    .dataframe tbody tr th {\n",
              "        vertical-align: top;\n",
              "    }\n",
              "\n",
              "    .dataframe thead th {\n",
              "        text-align: right;\n",
              "    }\n",
              "</style>\n",
              "<table border=\"1\" class=\"dataframe\">\n",
              "  <thead>\n",
              "    <tr style=\"text-align: right;\">\n",
              "      <th></th>\n",
              "      <th>destination</th>\n",
              "      <th>passanger</th>\n",
              "      <th>weather</th>\n",
              "      <th>temperature</th>\n",
              "      <th>time</th>\n",
              "      <th>coupon</th>\n",
              "      <th>expiration</th>\n",
              "      <th>gender</th>\n",
              "      <th>age</th>\n",
              "      <th>maritalStatus</th>\n",
              "      <th>...</th>\n",
              "      <th>CoffeeHouse</th>\n",
              "      <th>CarryAway</th>\n",
              "      <th>RestaurantLessThan20</th>\n",
              "      <th>Restaurant20To50</th>\n",
              "      <th>toCoupon_GEQ5min</th>\n",
              "      <th>toCoupon_GEQ15min</th>\n",
              "      <th>toCoupon_GEQ25min</th>\n",
              "      <th>direction_same</th>\n",
              "      <th>direction_opp</th>\n",
              "      <th>Y</th>\n",
              "    </tr>\n",
              "  </thead>\n",
              "  <tbody>\n",
              "    <tr>\n",
              "      <th>0</th>\n",
              "      <td>No Urgent Place</td>\n",
              "      <td>Alone</td>\n",
              "      <td>Sunny</td>\n",
              "      <td>55</td>\n",
              "      <td>2PM</td>\n",
              "      <td>Restaurant(&lt;20)</td>\n",
              "      <td>1d</td>\n",
              "      <td>Female</td>\n",
              "      <td>21</td>\n",
              "      <td>Unmarried partner</td>\n",
              "      <td>...</td>\n",
              "      <td>never</td>\n",
              "      <td>NaN</td>\n",
              "      <td>4~8</td>\n",
              "      <td>1~3</td>\n",
              "      <td>1</td>\n",
              "      <td>0</td>\n",
              "      <td>0</td>\n",
              "      <td>0</td>\n",
              "      <td>1</td>\n",
              "      <td>1</td>\n",
              "    </tr>\n",
              "    <tr>\n",
              "      <th>1</th>\n",
              "      <td>No Urgent Place</td>\n",
              "      <td>Friend(s)</td>\n",
              "      <td>Sunny</td>\n",
              "      <td>80</td>\n",
              "      <td>10AM</td>\n",
              "      <td>Coffee House</td>\n",
              "      <td>2h</td>\n",
              "      <td>Female</td>\n",
              "      <td>21</td>\n",
              "      <td>Unmarried partner</td>\n",
              "      <td>...</td>\n",
              "      <td>never</td>\n",
              "      <td>NaN</td>\n",
              "      <td>4~8</td>\n",
              "      <td>1~3</td>\n",
              "      <td>1</td>\n",
              "      <td>0</td>\n",
              "      <td>0</td>\n",
              "      <td>0</td>\n",
              "      <td>1</td>\n",
              "      <td>0</td>\n",
              "    </tr>\n",
              "    <tr>\n",
              "      <th>2</th>\n",
              "      <td>No Urgent Place</td>\n",
              "      <td>Friend(s)</td>\n",
              "      <td>Sunny</td>\n",
              "      <td>80</td>\n",
              "      <td>10AM</td>\n",
              "      <td>Carry out &amp; Take away</td>\n",
              "      <td>2h</td>\n",
              "      <td>Female</td>\n",
              "      <td>21</td>\n",
              "      <td>Unmarried partner</td>\n",
              "      <td>...</td>\n",
              "      <td>never</td>\n",
              "      <td>NaN</td>\n",
              "      <td>4~8</td>\n",
              "      <td>1~3</td>\n",
              "      <td>1</td>\n",
              "      <td>1</td>\n",
              "      <td>0</td>\n",
              "      <td>0</td>\n",
              "      <td>1</td>\n",
              "      <td>1</td>\n",
              "    </tr>\n",
              "    <tr>\n",
              "      <th>3</th>\n",
              "      <td>No Urgent Place</td>\n",
              "      <td>Friend(s)</td>\n",
              "      <td>Sunny</td>\n",
              "      <td>80</td>\n",
              "      <td>2PM</td>\n",
              "      <td>Coffee House</td>\n",
              "      <td>2h</td>\n",
              "      <td>Female</td>\n",
              "      <td>21</td>\n",
              "      <td>Unmarried partner</td>\n",
              "      <td>...</td>\n",
              "      <td>never</td>\n",
              "      <td>NaN</td>\n",
              "      <td>4~8</td>\n",
              "      <td>1~3</td>\n",
              "      <td>1</td>\n",
              "      <td>1</td>\n",
              "      <td>0</td>\n",
              "      <td>0</td>\n",
              "      <td>1</td>\n",
              "      <td>0</td>\n",
              "    </tr>\n",
              "    <tr>\n",
              "      <th>4</th>\n",
              "      <td>No Urgent Place</td>\n",
              "      <td>Friend(s)</td>\n",
              "      <td>Sunny</td>\n",
              "      <td>80</td>\n",
              "      <td>2PM</td>\n",
              "      <td>Coffee House</td>\n",
              "      <td>1d</td>\n",
              "      <td>Female</td>\n",
              "      <td>21</td>\n",
              "      <td>Unmarried partner</td>\n",
              "      <td>...</td>\n",
              "      <td>never</td>\n",
              "      <td>NaN</td>\n",
              "      <td>4~8</td>\n",
              "      <td>1~3</td>\n",
              "      <td>1</td>\n",
              "      <td>1</td>\n",
              "      <td>0</td>\n",
              "      <td>0</td>\n",
              "      <td>1</td>\n",
              "      <td>0</td>\n",
              "    </tr>\n",
              "  </tbody>\n",
              "</table>\n",
              "<p>5 rows × 26 columns</p>\n",
              "</div>\n",
              "    <div class=\"colab-df-buttons\">\n",
              "\n",
              "  <div class=\"colab-df-container\">\n",
              "    <button class=\"colab-df-convert\" onclick=\"convertToInteractive('df-62eadf00-f4e0-46e1-ba99-7ff37a8da8fd')\"\n",
              "            title=\"Convert this dataframe to an interactive table.\"\n",
              "            style=\"display:none;\">\n",
              "\n",
              "  <svg xmlns=\"http://www.w3.org/2000/svg\" height=\"24px\" viewBox=\"0 -960 960 960\">\n",
              "    <path d=\"M120-120v-720h720v720H120Zm60-500h600v-160H180v160Zm220 220h160v-160H400v160Zm0 220h160v-160H400v160ZM180-400h160v-160H180v160Zm440 0h160v-160H620v160ZM180-180h160v-160H180v160Zm440 0h160v-160H620v160Z\"/>\n",
              "  </svg>\n",
              "    </button>\n",
              "\n",
              "  <style>\n",
              "    .colab-df-container {\n",
              "      display:flex;\n",
              "      gap: 12px;\n",
              "    }\n",
              "\n",
              "    .colab-df-convert {\n",
              "      background-color: #E8F0FE;\n",
              "      border: none;\n",
              "      border-radius: 50%;\n",
              "      cursor: pointer;\n",
              "      display: none;\n",
              "      fill: #1967D2;\n",
              "      height: 32px;\n",
              "      padding: 0 0 0 0;\n",
              "      width: 32px;\n",
              "    }\n",
              "\n",
              "    .colab-df-convert:hover {\n",
              "      background-color: #E2EBFA;\n",
              "      box-shadow: 0px 1px 2px rgba(60, 64, 67, 0.3), 0px 1px 3px 1px rgba(60, 64, 67, 0.15);\n",
              "      fill: #174EA6;\n",
              "    }\n",
              "\n",
              "    .colab-df-buttons div {\n",
              "      margin-bottom: 4px;\n",
              "    }\n",
              "\n",
              "    [theme=dark] .colab-df-convert {\n",
              "      background-color: #3B4455;\n",
              "      fill: #D2E3FC;\n",
              "    }\n",
              "\n",
              "    [theme=dark] .colab-df-convert:hover {\n",
              "      background-color: #434B5C;\n",
              "      box-shadow: 0px 1px 3px 1px rgba(0, 0, 0, 0.15);\n",
              "      filter: drop-shadow(0px 1px 2px rgba(0, 0, 0, 0.3));\n",
              "      fill: #FFFFFF;\n",
              "    }\n",
              "  </style>\n",
              "\n",
              "    <script>\n",
              "      const buttonEl =\n",
              "        document.querySelector('#df-62eadf00-f4e0-46e1-ba99-7ff37a8da8fd button.colab-df-convert');\n",
              "      buttonEl.style.display =\n",
              "        google.colab.kernel.accessAllowed ? 'block' : 'none';\n",
              "\n",
              "      async function convertToInteractive(key) {\n",
              "        const element = document.querySelector('#df-62eadf00-f4e0-46e1-ba99-7ff37a8da8fd');\n",
              "        const dataTable =\n",
              "          await google.colab.kernel.invokeFunction('convertToInteractive',\n",
              "                                                    [key], {});\n",
              "        if (!dataTable) return;\n",
              "\n",
              "        const docLinkHtml = 'Like what you see? Visit the ' +\n",
              "          '<a target=\"_blank\" href=https://colab.research.google.com/notebooks/data_table.ipynb>data table notebook</a>'\n",
              "          + ' to learn more about interactive tables.';\n",
              "        element.innerHTML = '';\n",
              "        dataTable['output_type'] = 'display_data';\n",
              "        await google.colab.output.renderOutput(dataTable, element);\n",
              "        const docLink = document.createElement('div');\n",
              "        docLink.innerHTML = docLinkHtml;\n",
              "        element.appendChild(docLink);\n",
              "      }\n",
              "    </script>\n",
              "  </div>\n",
              "\n",
              "\n",
              "<div id=\"df-1518baec-002b-4361-ad0d-b9b9af06d46d\">\n",
              "  <button class=\"colab-df-quickchart\" onclick=\"quickchart('df-1518baec-002b-4361-ad0d-b9b9af06d46d')\"\n",
              "            title=\"Suggest charts\"\n",
              "            style=\"display:none;\">\n",
              "\n",
              "<svg xmlns=\"http://www.w3.org/2000/svg\" height=\"24px\"viewBox=\"0 0 24 24\"\n",
              "     width=\"24px\">\n",
              "    <g>\n",
              "        <path d=\"M19 3H5c-1.1 0-2 .9-2 2v14c0 1.1.9 2 2 2h14c1.1 0 2-.9 2-2V5c0-1.1-.9-2-2-2zM9 17H7v-7h2v7zm4 0h-2V7h2v10zm4 0h-2v-4h2v4z\"/>\n",
              "    </g>\n",
              "</svg>\n",
              "  </button>\n",
              "\n",
              "<style>\n",
              "  .colab-df-quickchart {\n",
              "      --bg-color: #E8F0FE;\n",
              "      --fill-color: #1967D2;\n",
              "      --hover-bg-color: #E2EBFA;\n",
              "      --hover-fill-color: #174EA6;\n",
              "      --disabled-fill-color: #AAA;\n",
              "      --disabled-bg-color: #DDD;\n",
              "  }\n",
              "\n",
              "  [theme=dark] .colab-df-quickchart {\n",
              "      --bg-color: #3B4455;\n",
              "      --fill-color: #D2E3FC;\n",
              "      --hover-bg-color: #434B5C;\n",
              "      --hover-fill-color: #FFFFFF;\n",
              "      --disabled-bg-color: #3B4455;\n",
              "      --disabled-fill-color: #666;\n",
              "  }\n",
              "\n",
              "  .colab-df-quickchart {\n",
              "    background-color: var(--bg-color);\n",
              "    border: none;\n",
              "    border-radius: 50%;\n",
              "    cursor: pointer;\n",
              "    display: none;\n",
              "    fill: var(--fill-color);\n",
              "    height: 32px;\n",
              "    padding: 0;\n",
              "    width: 32px;\n",
              "  }\n",
              "\n",
              "  .colab-df-quickchart:hover {\n",
              "    background-color: var(--hover-bg-color);\n",
              "    box-shadow: 0 1px 2px rgba(60, 64, 67, 0.3), 0 1px 3px 1px rgba(60, 64, 67, 0.15);\n",
              "    fill: var(--button-hover-fill-color);\n",
              "  }\n",
              "\n",
              "  .colab-df-quickchart-complete:disabled,\n",
              "  .colab-df-quickchart-complete:disabled:hover {\n",
              "    background-color: var(--disabled-bg-color);\n",
              "    fill: var(--disabled-fill-color);\n",
              "    box-shadow: none;\n",
              "  }\n",
              "\n",
              "  .colab-df-spinner {\n",
              "    border: 2px solid var(--fill-color);\n",
              "    border-color: transparent;\n",
              "    border-bottom-color: var(--fill-color);\n",
              "    animation:\n",
              "      spin 1s steps(1) infinite;\n",
              "  }\n",
              "\n",
              "  @keyframes spin {\n",
              "    0% {\n",
              "      border-color: transparent;\n",
              "      border-bottom-color: var(--fill-color);\n",
              "      border-left-color: var(--fill-color);\n",
              "    }\n",
              "    20% {\n",
              "      border-color: transparent;\n",
              "      border-left-color: var(--fill-color);\n",
              "      border-top-color: var(--fill-color);\n",
              "    }\n",
              "    30% {\n",
              "      border-color: transparent;\n",
              "      border-left-color: var(--fill-color);\n",
              "      border-top-color: var(--fill-color);\n",
              "      border-right-color: var(--fill-color);\n",
              "    }\n",
              "    40% {\n",
              "      border-color: transparent;\n",
              "      border-right-color: var(--fill-color);\n",
              "      border-top-color: var(--fill-color);\n",
              "    }\n",
              "    60% {\n",
              "      border-color: transparent;\n",
              "      border-right-color: var(--fill-color);\n",
              "    }\n",
              "    80% {\n",
              "      border-color: transparent;\n",
              "      border-right-color: var(--fill-color);\n",
              "      border-bottom-color: var(--fill-color);\n",
              "    }\n",
              "    90% {\n",
              "      border-color: transparent;\n",
              "      border-bottom-color: var(--fill-color);\n",
              "    }\n",
              "  }\n",
              "</style>\n",
              "\n",
              "  <script>\n",
              "    async function quickchart(key) {\n",
              "      const quickchartButtonEl =\n",
              "        document.querySelector('#' + key + ' button');\n",
              "      quickchartButtonEl.disabled = true;  // To prevent multiple clicks.\n",
              "      quickchartButtonEl.classList.add('colab-df-spinner');\n",
              "      try {\n",
              "        const charts = await google.colab.kernel.invokeFunction(\n",
              "            'suggestCharts', [key], {});\n",
              "      } catch (error) {\n",
              "        console.error('Error during call to suggestCharts:', error);\n",
              "      }\n",
              "      quickchartButtonEl.classList.remove('colab-df-spinner');\n",
              "      quickchartButtonEl.classList.add('colab-df-quickchart-complete');\n",
              "    }\n",
              "    (() => {\n",
              "      let quickchartButtonEl =\n",
              "        document.querySelector('#df-1518baec-002b-4361-ad0d-b9b9af06d46d button');\n",
              "      quickchartButtonEl.style.display =\n",
              "        google.colab.kernel.accessAllowed ? 'block' : 'none';\n",
              "    })();\n",
              "  </script>\n",
              "</div>\n",
              "\n",
              "    </div>\n",
              "  </div>\n"
            ],
            "application/vnd.google.colaboratory.intrinsic+json": {
              "type": "dataframe",
              "variable_name": "data"
            }
          },
          "metadata": {},
          "execution_count": 4
        }
      ],
      "source": [
        "data.head()"
      ]
    },
    {
      "cell_type": "markdown",
      "metadata": {
        "id": "GcDs78ZH_qRH"
      },
      "source": [
        "2. Investigate the dataset for missing or problematic data."
      ]
    },
    {
      "cell_type": "code",
      "execution_count": 53,
      "metadata": {
        "id": "6CwL6oWj_qRH",
        "colab": {
          "base_uri": "https://localhost:8080/"
        },
        "outputId": "93e8e115-c0af-4c58-d563-2173febaa8cb"
      },
      "outputs": [
        {
          "output_type": "stream",
          "name": "stdout",
          "text": [
            "Dataset Info:\n",
            "<class 'pandas.core.frame.DataFrame'>\n",
            "RangeIndex: 12684 entries, 0 to 12683\n",
            "Data columns (total 26 columns):\n",
            " #   Column                Non-Null Count  Dtype \n",
            "---  ------                --------------  ----- \n",
            " 0   destination           12684 non-null  object\n",
            " 1   passanger             12684 non-null  object\n",
            " 2   weather               12684 non-null  object\n",
            " 3   temperature           12684 non-null  int64 \n",
            " 4   time                  12684 non-null  object\n",
            " 5   coupon                12684 non-null  object\n",
            " 6   expiration            12684 non-null  object\n",
            " 7   gender                12684 non-null  object\n",
            " 8   age                   12684 non-null  object\n",
            " 9   maritalStatus         12684 non-null  object\n",
            " 10  has_children          12684 non-null  int64 \n",
            " 11  education             12684 non-null  object\n",
            " 12  occupation            12684 non-null  object\n",
            " 13  income                12684 non-null  object\n",
            " 14  car                   12684 non-null  object\n",
            " 15  Bar                   12684 non-null  object\n",
            " 16  CoffeeHouse           12684 non-null  object\n",
            " 17  CarryAway             12684 non-null  object\n",
            " 18  RestaurantLessThan20  12684 non-null  object\n",
            " 19  Restaurant20To50      12684 non-null  object\n",
            " 20  toCoupon_GEQ5min      12684 non-null  int64 \n",
            " 21  toCoupon_GEQ15min     12684 non-null  int64 \n",
            " 22  toCoupon_GEQ25min     12684 non-null  int64 \n",
            " 23  direction_same        12684 non-null  int64 \n",
            " 24  direction_opp         12684 non-null  int64 \n",
            " 25  Y                     12684 non-null  int64 \n",
            "dtypes: int64(8), object(18)\n",
            "memory usage: 2.5+ MB\n",
            "None\n",
            "\n",
            "Missing Values:\n",
            "destination             0\n",
            "passanger               0\n",
            "weather                 0\n",
            "temperature             0\n",
            "time                    0\n",
            "coupon                  0\n",
            "expiration              0\n",
            "gender                  0\n",
            "age                     0\n",
            "maritalStatus           0\n",
            "has_children            0\n",
            "education               0\n",
            "occupation              0\n",
            "income                  0\n",
            "car                     0\n",
            "Bar                     0\n",
            "CoffeeHouse             0\n",
            "CarryAway               0\n",
            "RestaurantLessThan20    0\n",
            "Restaurant20To50        0\n",
            "toCoupon_GEQ5min        0\n",
            "toCoupon_GEQ15min       0\n",
            "toCoupon_GEQ25min       0\n",
            "direction_same          0\n",
            "direction_opp           0\n",
            "Y                       0\n",
            "dtype: int64\n",
            "\n",
            "Duplicate Values:\n",
            "74\n"
          ]
        }
      ],
      "source": [
        "print('Dataset Info:')\n",
        "print(data.info())\n",
        "\n",
        "print('\\nMissing Values:')\n",
        "print(data.isnull().sum())\n",
        "\n",
        "print('\\nDuplicate Values:')\n",
        "print(data.duplicated().sum())"
      ]
    },
    {
      "cell_type": "markdown",
      "metadata": {
        "id": "bSdVSpYB_qRH"
      },
      "source": [
        "3. Decide what to do about your missing data -- drop, replace, other..."
      ]
    },
    {
      "cell_type": "code",
      "execution_count": 75,
      "metadata": {
        "id": "tyvoAC5F_qRI"
      },
      "outputs": [],
      "source": [
        "missing_values = data.isnull().sum()\n",
        "missing_percent = (missing_values / len(data)) * 100\n",
        "missing_df = pd.DataFrame({\"Missing Values\": missing_values, \"Percentage\": missing_percent})\n",
        "\n",
        "columns_to_drop = missing_df[missing_df[\"Percentage\"] > 50].index\n",
        "data.drop(columns = columns_to_drop, inplace = True)\n",
        "\n",
        "categorical_cols = data.select_dtypes(include=[\"object\"]).columns\n",
        "for col in categorical_cols:\n",
        "    data[col] = data[col].fillna(data[col].mode()[0])\n",
        "\n",
        "numerical_cols = data.select_dtypes(include=[\"number\"]).columns\n",
        "for col in numerical_cols:\n",
        "    data[col] = data[col].fillna(data[col].median())\n",
        "\n",
        "data.drop_duplicates(inplace = True)"
      ]
    },
    {
      "cell_type": "markdown",
      "metadata": {
        "id": "YE6oJbXd_qRI"
      },
      "source": [
        "4. What proportion of the total observations chose to accept the coupon?\n",
        "\n"
      ]
    },
    {
      "cell_type": "code",
      "execution_count": 76,
      "metadata": {
        "id": "86GGqBTv_qRI",
        "colab": {
          "base_uri": "https://localhost:8080/"
        },
        "outputId": "2a48cb74-94ac-4fb8-e3f5-860cb4f061f1"
      },
      "outputs": [
        {
          "output_type": "stream",
          "name": "stdout",
          "text": [
            "Acceptance Rate: 56.76%\n"
          ]
        }
      ],
      "source": [
        "accepted_count = data['Y'].sum()\n",
        "total_count = len(data)\n",
        "acceptance_rate = accepted_count / total_count\n",
        "print(f\"Acceptance Rate: {acceptance_rate:.2%}\")"
      ]
    },
    {
      "cell_type": "markdown",
      "metadata": {
        "id": "vflz0DoE_qRI"
      },
      "source": [
        "5. Use a bar plot to visualize the `coupon` column."
      ]
    },
    {
      "cell_type": "code",
      "execution_count": 77,
      "metadata": {
        "id": "dHFh3E45_qRI",
        "colab": {
          "base_uri": "https://localhost:8080/",
          "height": 578
        },
        "outputId": "26d02d90-e709-4a5a-d443-7fe556638224"
      },
      "outputs": [
        {
          "output_type": "display_data",
          "data": {
            "text/plain": [
              "<Figure size 640x480 with 1 Axes>"
            ],
            "image/png": "[encoded data removed]"
          },
          "metadata": {}
        }
      ],
      "source": [
        "coupon_acceptance = data.groupby([\"coupon\", \"Y\"]).size().unstack()\n",
        "coupon_acceptance.plot(kind = \"bar\", color = [\"red\", \"green\"])\n",
        "\n",
        "plt.xlabel(\"Coupon Type\")\n",
        "plt.ylabel(\"Count\")\n",
        "plt.title(\"Acceptance vs. Rejection for Each Coupon Type\")\n",
        "plt.legend([\"Rejected\", \"Accepted\"])\n",
        "plt.xticks(rotation=45)\n",
        "plt.show()"
      ]
    },
    {
      "cell_type": "markdown",
      "metadata": {
        "id": "Qw4lCyx2_qRI"
      },
      "source": [
        "6. Use a histogram to visualize the temperature column."
      ]
    },
    {
      "cell_type": "code",
      "execution_count": 78,
      "metadata": {
        "id": "zLtOaJQk_qRI",
        "colab": {
          "base_uri": "https://localhost:8080/",
          "height": 466
        },
        "outputId": "c3de12f8-4a51-49e3-a7ec-3bc6b871e6cf"
      },
      "outputs": [
        {
          "output_type": "execute_result",
          "data": {
            "text/plain": [
              "<Axes: xlabel='temperature', ylabel='Count'>"
            ]
          },
          "metadata": {},
          "execution_count": 78
        },
        {
          "output_type": "display_data",
          "data": {
            "text/plain": [
              "<Figure size 640x480 with 1 Axes>"
            ],
            "image/png": "[encoded data removed]"
          },
          "metadata": {}
        }
      ],
      "source": [
        "sns.histplot(data[\"temperature\"], bins = 10, kde = True)"
      ]
    },
    {
      "cell_type": "markdown",
      "metadata": {
        "id": "FupfgeJk_qRJ"
      },
      "source": [
        "**Investigating the Bar Coupons**\n",
        "\n",
        "Now, we will lead you through an exploration of just the bar related coupons.  \n",
        "\n",
        "1. Create a new `DataFrame` that contains just the bar coupons.\n"
      ]
    },
    {
      "cell_type": "code",
      "source": [
        "bar_coupons = data[data[\"coupon\"] == \"Bar\"]\n",
        "print(bar_coupons.head())"
      ],
      "metadata": {
        "colab": {
          "base_uri": "https://localhost:8080/"
        },
        "id": "VKZxooCmjoLL",
        "outputId": "74c7426f-0d93-4ac3-ddef-14224a3871b3"
      },
      "execution_count": 79,
      "outputs": [
        {
          "output_type": "stream",
          "name": "stdout",
          "text": [
            "        destination  passanger weather  temperature  time coupon expiration  \\\n",
            "9   No Urgent Place     Kid(s)   Sunny           80  10AM    Bar         1d   \n",
            "13             Home      Alone   Sunny           55   6PM    Bar         1d   \n",
            "17             Work      Alone   Sunny           55   7AM    Bar         1d   \n",
            "24  No Urgent Place  Friend(s)   Sunny           80  10AM    Bar         1d   \n",
            "35             Home      Alone   Sunny           55   6PM    Bar         1d   \n",
            "\n",
            "    gender age      maritalStatus  ...  CoffeeHouse CarryAway  \\\n",
            "9   Female  21  Unmarried partner  ...        never       1~3   \n",
            "13  Female  21  Unmarried partner  ...        never       1~3   \n",
            "17  Female  21  Unmarried partner  ...        never       1~3   \n",
            "24    Male  21             Single  ...        less1       4~8   \n",
            "35    Male  21             Single  ...        less1       4~8   \n",
            "\n",
            "   RestaurantLessThan20 Restaurant20To50 toCoupon_GEQ5min toCoupon_GEQ15min  \\\n",
            "9                   4~8              1~3                1                 1   \n",
            "13                  4~8              1~3                1                 0   \n",
            "17                  4~8              1~3                1                 1   \n",
            "24                  4~8            less1                1                 0   \n",
            "35                  4~8            less1                1                 0   \n",
            "\n",
            "   toCoupon_GEQ25min direction_same direction_opp  Y  \n",
            "9                  0              0             1  0  \n",
            "13                 0              1             0  1  \n",
            "17                 1              0             1  0  \n",
            "24                 0              0             1  1  \n",
            "35                 0              1             0  1  \n",
            "\n",
            "[5 rows x 26 columns]\n"
          ]
        }
      ]
    },
    {
      "cell_type": "markdown",
      "metadata": {
        "id": "8ue6uCqf_qRJ"
      },
      "source": [
        "2. What proportion of bar coupons were accepted?\n"
      ]
    },
    {
      "cell_type": "code",
      "execution_count": 80,
      "metadata": {
        "id": "hSdte8Mi_qRK",
        "colab": {
          "base_uri": "https://localhost:8080/"
        },
        "outputId": "ed5cd6cb-9c35-476c-d6e0-30435538b5ac"
      },
      "outputs": [
        {
          "output_type": "stream",
          "name": "stdout",
          "text": [
            "Acceptance Rate: 41.00%\n"
          ]
        }
      ],
      "source": [
        "accepted_bar_coupons = bar_coupons[\"Y\"].sum()\n",
        "total_bar_coupons = len(bar_coupons)\n",
        "acceptance_rate = accepted_bar_coupons / total_bar_coupons\n",
        "print(f\"Acceptance Rate: {acceptance_rate:.2%}\")"
      ]
    },
    {
      "cell_type": "markdown",
      "metadata": {
        "id": "85nA_iEi_qRK"
      },
      "source": [
        "3. Compare the acceptance rate between those who went to a bar 3 or fewer times a month to those who went more.\n"
      ]
    },
    {
      "cell_type": "code",
      "execution_count": 81,
      "metadata": {
        "id": "LBOrN-XM_qRK",
        "colab": {
          "base_uri": "https://localhost:8080/"
        },
        "outputId": "b74bb0e3-9fc7-42a0-bce4-5b123a5be59b"
      },
      "outputs": [
        {
          "output_type": "stream",
          "name": "stdout",
          "text": [
            "Acceptance Rate (≤ 3 visits/month): 33.73%\n",
            "Acceptance Rate (> 3 visits/month): 78.00%\n"
          ]
        }
      ],
      "source": [
        "bar_coupons = data[data[\"coupon\"] == \"Bar\"]\n",
        "\n",
        "low_bar_visits = bar_coupons[bar_coupons[\"Bar\"].isin([\"never\", \"less than 1\", \"1~3\"])]\n",
        "high_bar_visits = bar_coupons[bar_coupons[\"Bar\"].isin([\"4~8\", \"greater than 8\"])]\n",
        "\n",
        "low_acceptance_rate = low_bar_visits[\"Y\"].mean()\n",
        "high_acceptance_rate = high_bar_visits[\"Y\"].mean()\n",
        "\n",
        "print(f\"Acceptance Rate (≤ 3 visits/month): {low_acceptance_rate:.2%}\")\n",
        "print(f\"Acceptance Rate (> 3 visits/month): {high_acceptance_rate:.2%}\")\n"
      ]
    },
    {
      "cell_type": "markdown",
      "metadata": {
        "id": "RBgcQwH4_qRK"
      },
      "source": [
        "4. Compare the acceptance rate between drivers who go to a bar more than once a month and are over the age of 25 to the all others.  Is there a difference?\n"
      ]
    },
    {
      "cell_type": "code",
      "execution_count": 82,
      "metadata": {
        "id": "bf28bbeX_qRK",
        "colab": {
          "base_uri": "https://localhost:8080/"
        },
        "outputId": "cf078f66-78ba-4747-b339-2598ee8fd343"
      },
      "outputs": [
        {
          "output_type": "stream",
          "name": "stdout",
          "text": [
            "Acceptance Rate (Bar > 1x/month & Age > 25): 69.49%\n",
            "Acceptance Rate (All Others): 34.14%\n"
          ]
        }
      ],
      "source": [
        "bar_coupons = data[data[\"coupon\"] == \"Bar\"].copy()\n",
        "\n",
        "bar_coupons.loc[:, \"age_numeric\"] = bar_coupons[\"age\"].astype(str).str.extract(r'(\\d+)').astype(float)\n",
        "\n",
        "group_1 = bar_coupons[\n",
        "    (bar_coupons[\"Bar\"].isin([\"1~3\", \"4~8\", \"greater than 8\"])) &\n",
        "    (bar_coupons[\"age_numeric\"] > 25)\n",
        "]\n",
        "group_2 = bar_coupons[~bar_coupons.index.isin(group_1.index)]\n",
        "\n",
        "acceptance_rate_group_1 = group_1[\"Y\"].mean()\n",
        "acceptance_rate_group_2 = group_2[\"Y\"].mean()\n",
        "\n",
        "print(f\"Acceptance Rate (Bar > 1x/month & Age > 25): {acceptance_rate_group_1:.2%}\")\n",
        "print(f\"Acceptance Rate (All Others): {acceptance_rate_group_2:.2%}\")"
      ]
    },
    {
      "cell_type": "markdown",
      "metadata": {
        "id": "S4RKT4PJ_qRK"
      },
      "source": [
        "5. Use the same process to compare the acceptance rate between drivers who go to bars more than once a month and had passengers that were not a kid and had occupations other than farming, fishing, or forestry.\n"
      ]
    },
    {
      "cell_type": "code",
      "execution_count": 83,
      "metadata": {
        "id": "sENaI2Tg_qRK",
        "colab": {
          "base_uri": "https://localhost:8080/"
        },
        "outputId": "af20aa02-1053-45b6-d8e0-6c9cf839b732"
      },
      "outputs": [
        {
          "output_type": "stream",
          "name": "stdout",
          "text": [
            "Acceptance Rate (Bar > 1x/month, No Kid Passenger, No Farming/Fishing/Forestry Job): 71.17%\n",
            "Acceptance Rate (All Others): 30.92%\n"
          ]
        }
      ],
      "source": [
        "bar_coupons = data[data[\"coupon\"] == \"Bar\"].copy()\n",
        "\n",
        "bar_visits_condition = bar_coupons[\"Bar\"].isin([\"1~3\", \"4~8\", \"greater than 8\"])\n",
        "passenger_condition = bar_coupons[\"passanger\"] != \"Kid(s)\"\n",
        "occupation_condition = bar_coupons[\"occupation\"] != \"Farming, Fishing, and Forestry\"\n",
        "\n",
        "group_1 = bar_coupons[bar_visits_condition & passenger_condition & occupation_condition]\n",
        "\n",
        "group_2 = bar_coupons[~bar_coupons.index.isin(group_1.index)]\n",
        "\n",
        "acceptance_rate_group_1 = group_1[\"Y\"].mean()\n",
        "acceptance_rate_group_2 = group_2[\"Y\"].mean()\n",
        "\n",
        "print(f\"Acceptance Rate (Bar > 1x/month, No Kid Passenger, No Farming/Fishing/Forestry Job): {acceptance_rate_group_1:.2%}\")\n",
        "print(f\"Acceptance Rate (All Others): {acceptance_rate_group_2:.2%}\")"
      ]
    },
    {
      "cell_type": "markdown",
      "metadata": {
        "id": "n2LIUTil_qRK"
      },
      "source": [
        "6. Compare the acceptance rates between those drivers who:\n",
        "\n",
        "- go to bars more than once a month, had passengers that were not a kid, and were not widowed *OR*\n",
        "- go to bars more than once a month and are under the age of 30 *OR*\n",
        "- go to cheap restaurants more than 4 times a month and income is less than 50K.\n",
        "\n"
      ]
    },
    {
      "cell_type": "code",
      "execution_count": 94,
      "metadata": {
        "id": "aK_wEzx7_qRK",
        "colab": {
          "base_uri": "https://localhost:8080/"
        },
        "outputId": "f839ac55-09e7-4554-f898-4df6172ff0a7"
      },
      "outputs": [
        {
          "output_type": "stream",
          "name": "stdout",
          "text": [
            "Acceptance Rate (Matches Any Condition): 59.64%\n",
            "Acceptance Rate (All Others): 31.59%\n"
          ]
        }
      ],
      "source": [
        "bar_coupons = data[data[\"coupon\"] == \"Bar\"].copy()\n",
        "\n",
        "bar_coupons[\"age_numeric\"] = bar_coupons[\"age\"].astype(str).str.extract(r'(\\d+)').astype(float)\n",
        "\n",
        "cond_1_bar = (\n",
        "    bar_coupons[\"Bar\"].isin([\"1~3\", \"4~8\", \"greater than 8\"]) &\n",
        "    (bar_coupons[\"passanger\"] != \"Kid(s)\") &\n",
        "    (bar_coupons[\"maritalStatus\"] != \"Widowed\")\n",
        ")\n",
        "\n",
        "cond_2_bar = (\n",
        "    bar_coupons[\"Bar\"].isin([\"1~3\", \"4~8\", \"greater than 8\"]) &\n",
        "    (bar_coupons[\"age_numeric\"] < 30)\n",
        ")\n",
        "\n",
        "cond_3_bar = (\n",
        "    bar_coupons[\"RestaurantLessThan20\"].isin([\"4~8\", \"greater than 8\"]) &\n",
        "    bar_coupons[\"income\"].isin([\"Less than $12500\", \"$12500 - $24999\", \"$25000 - $37499\", \"$37500 - $49999\"])\n",
        ")\n",
        "\n",
        "group_1 = bar_coupons[cond_1_bar | cond_2_bar | cond_3_bar]\n",
        "\n",
        "group_2 = bar_coupons[~bar_coupons.index.isin(group_1.index)]\n",
        "\n",
        "acceptance_rate_group_1 = group_1[\"Y\"].mean()\n",
        "acceptance_rate_group_2 = group_2[\"Y\"].mean()\n",
        "print(f\"Acceptance Rate (Matches Any Condition): {acceptance_rate_group_1:.2%}\")\n",
        "print(f\"Acceptance Rate (All Others): {acceptance_rate_group_2:.2%}\")"
      ]
    },
    {
      "cell_type": "markdown",
      "metadata": {
        "id": "v3fL3QkO_qRK"
      },
      "source": [
        "7.  Based on these observations, what do you hypothesize about drivers who accepted the bar coupons?"
      ]
    },
    {
      "cell_type": "code",
      "source": [
        "#1. Frequent bar goers are more likely to accept bar coupons.\n",
        "#2. Younger drivers are more likely to accept bar coupons\n",
        "#3. Drivers without kids as passengers accept more\n",
        "#4. Single/non-widowed drivers might engage in more social activities at the bar\n",
        "#5. Those who frequently eat at cheap restaurants and under $50k are more likely to accept bar coupons"
      ],
      "metadata": {
        "id": "MtYvCcKqZwXn"
      },
      "execution_count": 16,
      "outputs": []
    },
    {
      "cell_type": "markdown",
      "metadata": {
        "id": "r4Hu1zOb_qRL"
      },
      "source": [
        "### Independent Investigation\n",
        "\n",
        "Using the bar coupon example as motivation, you are to explore one of the other coupon groups and try to determine the characteristics of passengers who accept the coupons.  "
      ]
    },
    {
      "cell_type": "code",
      "execution_count": 90,
      "metadata": {
        "id": "0c71cQhu_qRL",
        "colab": {
          "base_uri": "https://localhost:8080/"
        },
        "outputId": "770effd0-2249-434a-b191-6f0c764ec8ad"
      },
      "outputs": [
        {
          "output_type": "stream",
          "name": "stdout",
          "text": [
            "Acceptance Rate (Condition 1 - Eats Cheap & <$75K): 72.49%\n",
            "Acceptance Rate (Condition 2 - Under 30 & Takeaway): 73.30%\n",
            "Acceptance Rate (Condition 3 - Partner/Friends & Coffee): 84.88%\n",
            "Acceptance Rate (Condition 4 - Low-Mid Income): 69.78%\n",
            "Acceptance Rate (Condition 5 - Strict Schedule): 57.09%\n",
            "Acceptance Rate (Condition 6 - Bad Weather & Short Exp): 32.30%\n"
          ]
        }
      ],
      "source": [
        "restaurant_coupons = data[data[\"coupon\"] == \"Restaurant(<20)\"].copy()\n",
        "\n",
        "restaurant_coupons[\"age_numeric\"] = restaurant_coupons[\"age\"].astype(str).str.extract(r'(\\d+)').astype(float)\n",
        "\n",
        "# Condition 1: Eats at cheap restaurants more than 3 times a month and earns less than 75K\n",
        "cond_1_r20 = (\n",
        "    restaurant_coupons[\"RestaurantLessThan20\"].isin([\"4~8\", \"greater than 8\"]) &\n",
        "    restaurant_coupons[\"income\"].isin([\"Less than $12500\", \"$12500 - $24999\", \"$25000 - $37499\",\n",
        "                                       \"$37500 - $49999\", \"$50000 - $62499\", \"$62500 - $74999\"])\n",
        ")\n",
        "\n",
        "# Condition 2: Under 30 years old and frequently buys takeaway food\n",
        "cond_2_r20 = (\n",
        "    (restaurant_coupons[\"age_numeric\"].notnull()) &\n",
        "    (restaurant_coupons[\"age_numeric\"] < 30) &\n",
        "    restaurant_coupons[\"CarryAway\"].isin([\"4~8\", \"greater than 8\"])\n",
        ")\n",
        "\n",
        "# Condition 3: Has a partner or friends as a passenger and goes to coffee houses at least once a month\n",
        "cond_3_r20 = (\n",
        "    restaurant_coupons[\"passanger\"].str.strip().str.lower().isin([\"partner\", \"friend(s)\"]) &\n",
        "    restaurant_coupons[\"CoffeeHouse\"].isin([\"1~3\", \"4~8\", \"greater than 8\"])\n",
        ")\n",
        "\n",
        "# Condition 4: Frequent Fastfood Eaters and Low-Mid Income\n",
        "cond_4_r20 = (\n",
        "    restaurant_coupons[\"RestaurantLessThan20\"].isin([\"4~8\", \"greater than 8\"]) &\n",
        "    restaurant_coupons[\"income\"].isin([\"Less than $12500\", \"$12500 - $24999\", \"$25000 - $37499\"])\n",
        ")\n",
        "\n",
        "# Condition: Drivers on a Strict Schedule\n",
        "cond_5_r20 = restaurant_coupons[\"destination\"].isin([\"Home\", \"Work\"])\n",
        "\n",
        "# Condition: Bad Weather & Short Expiration Coupons\n",
        "cond_6_r20 = (restaurant_coupons[\"weather\"].isin([\"Rainy\", \"Snowy\"])) & (restaurant_coupons[\"expiration\"] == \"2h\")\n",
        "\n",
        "\n",
        "acceptance_rate_cond_1_r20 = restaurant_coupons[cond_1_r20][\"Y\"].mean()\n",
        "acceptance_rate_cond_2_r20 = restaurant_coupons[cond_2_r20][\"Y\"].mean()\n",
        "acceptance_rate_cond_3_r20 = restaurant_coupons[cond_3_r20][\"Y\"].mean()\n",
        "acceptance_rate_cond_4_r20 = restaurant_coupons[cond_4_r20][\"Y\"].mean()\n",
        "acceptance_rate_cond_5_r20 = restaurant_coupons[cond_5_r20][\"Y\"].mean()\n",
        "acceptance_rate_cond_6_r20 = restaurant_coupons[cond_6_r20][\"Y\"].mean()\n",
        "\n",
        "print(f\"Acceptance Rate (Condition 1 - Eats Cheap & <$75K): {acceptance_rate_cond_1_r20:.2%}\")\n",
        "print(f\"Acceptance Rate (Condition 2 - Under 30 & Takeaway): {acceptance_rate_cond_2_r20:.2%}\")\n",
        "print(f\"Acceptance Rate (Condition 3 - Partner/Friends & Coffee): {acceptance_rate_cond_3_r20:.2%}\")\n",
        "print(f\"Acceptance Rate (Condition 4 - Low-Mid Income): {acceptance_rate_cond_4_r20:.2%}\")\n",
        "print(f\"Acceptance Rate (Condition 5 - Strict Schedule): {acceptance_rate_cond_5_r20:.2%}\")\n",
        "print(f\"Acceptance Rate (Condition 6 - Bad Weather & Short Exp): {acceptance_rate_cond_6_r20:.2%}\")"
      ]
    },
    {
      "cell_type": "code",
      "execution_count": 95,
      "metadata": {
        "id": "QEsBkvIN_qRL",
        "colab": {
          "base_uri": "https://localhost:8080/",
          "height": 652
        },
        "outputId": "94afc979-3978-4e6d-e1cd-e0050ad2a4d8"
      },
      "outputs": [
        {
          "output_type": "stream",
          "name": "stderr",
          "text": [
            "<ipython-input-95-2a723d17135a>:21: FutureWarning: \n",
            "\n",
            "Passing `palette` without assigning `hue` is deprecated and will be removed in v0.14.0. Assign the `x` variable to `hue` and set `legend=False` for the same effect.\n",
            "\n",
            "  sns.barplot(x = \"Category\", y = \"Acceptance Rate\", data = plot_data, palette = \"Blues\")\n"
          ]
        },
        {
          "output_type": "display_data",
          "data": {
            "text/plain": [
              "<Figure size 640x480 with 1 Axes>"
            ],
            "image/png": "[encoded data removed]"
          },
          "metadata": {}
        }
      ],
      "source": [
        "plot_data = pd.DataFrame({\n",
        "    \"Category\": [\n",
        "        \"Eats Cheap & <$75K\",\n",
        "        \"Under 30 & Takeaway\",\n",
        "        \"Partner/Friends & Coffee\",\n",
        "        \"Low-Mid Income\",\n",
        "        \"Strict Schedule\",\n",
        "        \"Bad Weather & Short Exp\"\n",
        "    ],\n",
        "    \"Acceptance Rate\": [\n",
        "        acceptance_rate_cond_1_r20,\n",
        "        acceptance_rate_cond_2_r20,\n",
        "        acceptance_rate_cond_3_r20,\n",
        "        acceptance_rate_cond_4_r20,\n",
        "        acceptance_rate_cond_5_r20,\n",
        "        acceptance_rate_cond_6_r20\n",
        "    ]\n",
        "})\n",
        "\n",
        "\n",
        "sns.barplot(x = \"Category\", y = \"Acceptance Rate\", data = plot_data, palette = \"Blues\")\n",
        "plt.ylim(0, 1)\n",
        "plt.ylabel(\"Acceptance Rate\")\n",
        "plt.xlabel(\"Condition Category\")\n",
        "plt.title(\"Acceptance Rate for Different Conditions - Restaurant(<20) Coupons\")\n",
        "plt.xticks(rotation = 25)\n",
        "plt.show()"
      ]
    },
    {
      "cell_type": "code",
      "source": [
        "#Cheap restaurant diners earning <75K accept at ~72.5%.\n",
        "#Under-30 takeaway buyers show ~73.3% acceptance.\n",
        "#Passengers with partners/friends & coffee visits lead with ~84.9%.\n",
        "#Low-Mid Income fast food eaters accept at ~69.8%.\n",
        "#Drivers on strict schedules are less receptive (~57.1%).\n",
        "#Bad weather & short expiration coupons yield the lowest acceptance (~32.3%).\n"
      ],
      "metadata": {
        "id": "pp-Ott-a7Dr5"
      },
      "execution_count": null,
      "outputs": []
    },
    {
      "cell_type": "code",
      "execution_count": 96,
      "metadata": {
        "id": "fTC2WGE3_qRL",
        "colab": {
          "base_uri": "https://localhost:8080/"
        },
        "outputId": "76db09e0-f707-4910-ad63-f64eb6542600"
      },
      "outputs": [
        {
          "output_type": "stream",
          "name": "stdout",
          "text": [
            "Acceptance Rate (Condition 1 - Middle-Aged Moderate Diners): 41.57%\n",
            "Acceptance Rate (Condition 2 - Young Budget-Conscious): 53.97%\n",
            "Acceptance Rate (Condition 3 - Social Diners): 73.33%\n",
            "Acceptance Rate (Condition 4 - Commuters): 45.24%\n",
            "Acceptance Rate (Condition 5 - Weather-Sensitive): 25.37%\n"
          ]
        }
      ],
      "source": [
        "restaurant_coupons = data[data[\"coupon\"] == \"Restaurant(20-50)\"].copy()\n",
        "\n",
        "restaurant_coupons[\"age_numeric\"] = restaurant_coupons[\"age\"].astype(str).str.extract(r'(\\d+)').astype(float)\n",
        "\n",
        "\n",
        "# Condition 1: Age between 30 and 50, moderate dining frequency, and moderate income\n",
        "cond_1_r2050 = (\n",
        "    restaurant_coupons[\"age_numeric\"].between(30, 50) &\n",
        "    restaurant_coupons[\"Restaurant20To50\"].isin([\"1~3\", \"4~8\"]) &\n",
        "    restaurant_coupons[\"income\"].isin([\"$37500 - $49999\", \"$50000 - $62499\"])\n",
        ")\n",
        "\n",
        "# Condition 2: Under 30, dine infrequently (frequency \"0\" or \"1~3\"), and have low income\n",
        "cond_2_r2050 = (\n",
        "    (restaurant_coupons[\"age_numeric\"] < 30) &\n",
        "    restaurant_coupons[\"Restaurant20To50\"].isin([\"0\", \"1~3\"]) &\n",
        "    restaurant_coupons[\"income\"].isin([\"Less than $12500\", \"$12500 - $24999\", \"$25000 - $37499\"])\n",
        ")\n",
        "\n",
        "# Condition 3: Age between 20 and 40, dine frequently (4~8 or greater than 8), and are accompanied by a partner or friend(s)\n",
        "cond_3_r2050 = (\n",
        "    restaurant_coupons[\"age_numeric\"].between(20, 40) &\n",
        "    restaurant_coupons[\"Restaurant20To50\"].isin([\"4~8\", \"greater than 8\"]) &\n",
        "    restaurant_coupons[\"passanger\"].str.strip().str.lower().isin([\"partner\", \"friend(s)\"])\n",
        ")\n",
        "\n",
        "# Condition 4: Dine moderately while on the go (destination is Work)\n",
        "cond_4_r2050 = (\n",
        "    restaurant_coupons[\"destination\"].isin([\"Work\"]) &\n",
        "    restaurant_coupons[\"Restaurant20To50\"].isin([\"1~3\", \"4~8\"])\n",
        ")\n",
        "\n",
        "# Condition 5: Coupons offered during bad weather (Rainy or Snowy) with a short expiration time (2h)\n",
        "cond_5_r2050 = (\n",
        "    restaurant_coupons[\"weather\"].isin([\"Rainy\", \"Snowy\"]) &\n",
        "    (restaurant_coupons[\"expiration\"] == \"2h\")\n",
        ")\n",
        "\n",
        "acceptance_rate_cond_1_r2050 = restaurant_coupons[cond_1_r2050][\"Y\"].mean()\n",
        "acceptance_rate_cond_2_r2050 = restaurant_coupons[cond_2_r2050][\"Y\"].mean()\n",
        "acceptance_rate_cond_3_r2050 = restaurant_coupons[cond_3_r2050][\"Y\"].mean()\n",
        "acceptance_rate_cond_4_r2050 = restaurant_coupons[cond_4_r2050][\"Y\"].mean()\n",
        "acceptance_rate_cond_5_r2050 = restaurant_coupons[cond_5_r2050][\"Y\"].mean()\n",
        "\n",
        "print(f\"Acceptance Rate (Condition 1 - Middle-Aged Moderate Diners): {acceptance_rate_cond_1_r2050:.2%}\")\n",
        "print(f\"Acceptance Rate (Condition 2 - Young Budget-Conscious): {acceptance_rate_cond_2_r2050:.2%}\")\n",
        "print(f\"Acceptance Rate (Condition 3 - Social Diners): {acceptance_rate_cond_3_r2050:.2%}\")\n",
        "print(f\"Acceptance Rate (Condition 4 - Commuters): {acceptance_rate_cond_4_r2050:.2%}\")\n",
        "print(f\"Acceptance Rate (Condition 5 - Weather-Sensitive): {acceptance_rate_cond_5_r2050:.2%}\")"
      ]
    },
    {
      "cell_type": "code",
      "execution_count": 93,
      "metadata": {
        "id": "RrqUWn7d_qRL",
        "colab": {
          "base_uri": "https://localhost:8080/",
          "height": 664
        },
        "outputId": "21d661a6-9c30-4834-bc09-31608866d632"
      },
      "outputs": [
        {
          "output_type": "stream",
          "name": "stderr",
          "text": [
            "<ipython-input-93-7bd9df21f8b3>:19: FutureWarning: \n",
            "\n",
            "Passing `palette` without assigning `hue` is deprecated and will be removed in v0.14.0. Assign the `x` variable to `hue` and set `legend=False` for the same effect.\n",
            "\n",
            "  sns.barplot(x = \"Category\", y = \"Acceptance Rate\", data = plot_data, palette = \"Blues\")\n"
          ]
        },
        {
          "output_type": "display_data",
          "data": {
            "text/plain": [
              "<Figure size 640x480 with 1 Axes>"
            ],
            "image/png": "[encoded data removed]"
          },
          "metadata": {}
        }
      ],
      "source": [
        "plot_data = pd.DataFrame({\n",
        "    \"Category\": [\n",
        "        \"Middle Aged Moderate Diners\",\n",
        "        \"Young Budget-Conscious\",\n",
        "        \"Social Diners\",\n",
        "        \"Commuters\",\n",
        "        \"Weather Sensitive\",\n",
        "    ],\n",
        "    \"Acceptance Rate\": [\n",
        "        acceptance_rate_cond_1_r2050,\n",
        "        acceptance_rate_cond_2_r2050,\n",
        "        acceptance_rate_cond_3_r2050,\n",
        "        acceptance_rate_cond_4_r2050,\n",
        "        acceptance_rate_cond_5_r2050,\n",
        "    ]\n",
        "})\n",
        "\n",
        "\n",
        "sns.barplot(x = \"Category\", y = \"Acceptance Rate\", data = plot_data, palette = \"Blues\")\n",
        "plt.ylim(0, 1)\n",
        "plt.ylabel(\"Acceptance Rate\")\n",
        "plt.xlabel(\"Condition Category\")\n",
        "plt.title(\"Acceptance Rate for Different Conditions - Restaurant(20-50) Coupons\")\n",
        "plt.xticks(rotation = 25)\n",
        "plt.show()"
      ]
    },
    {
      "cell_type": "code",
      "execution_count": 44,
      "metadata": {
        "id": "_oykf8YP_qRL"
      },
      "outputs": [],
      "source": [
        "#Young Budget-Conscious Diners lead with a 73.33% acceptance rate, suggesting they are highly motivated by these coupons.\n",
        "#Middle-Aged Moderate Diners show a moderate response at 53.97%.\n",
        "#Social Diners have a 45.24% acceptance rate.\n",
        "#Commuters and Weather-Sensitive conditions both yield a lower acceptance compared to the others."
      ]
    }
  ],
  "metadata": {
    "kernelspec": {
      "display_name": "Python 3 (ipykernel)",
      "language": "python",
      "name": "python3"
    },
    "language_info": {
      "codemirror_mode": {
        "name": "ipython",
        "version": 3
      },
      "file_extension": ".py",
      "mimetype": "text/x-python",
      "name": "python",
      "nbconvert_exporter": "python",
      "pygments_lexer": "ipython3",
      "version": "3.12.1"
    },
    "colab": {
      "provenance": [],
      "include_colab_link": true
    }
  },
  "nbformat": 4,
  "nbformat_minor": 0
}